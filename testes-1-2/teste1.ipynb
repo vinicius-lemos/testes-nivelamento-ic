{
 "cells": [
  {
   "cell_type": "markdown",
   "metadata": {},
   "source": [
    "### 1. TESTE DE WEB SCRAPING"
   ]
  },
  {
   "cell_type": "markdown",
   "metadata": {},
   "source": [
    "Bibliotecas usadas"
   ]
  },
  {
   "cell_type": "code",
   "execution_count": 1,
   "metadata": {},
   "outputs": [],
   "source": [
    "import requests\n",
    "from bs4 import BeautifulSoup\n",
    "import os\n",
    "from zipfile import ZipFile"
   ]
  },
  {
   "cell_type": "markdown",
   "metadata": {},
   "source": [
    "Constanstes de configuração"
   ]
  },
  {
   "cell_type": "code",
   "execution_count": 2,
   "metadata": {},
   "outputs": [],
   "source": [
    "URL = \"https://www.gov.br/ans/pt-br/acesso-a-informacao/participacao-da-sociedade/atualizacao-do-rol-de-procedimentos\"\n",
    "OUTPUT_PDF_PATH = \"./PDFs/\"\n",
    "ZIP_NAME = \"anexos.zip\"\n",
    "OUTPUT_ZIP_PATH = \"./ZIPs/\""
   ]
  },
  {
   "cell_type": "markdown",
   "metadata": {},
   "source": [
    "Função para pegar as URLs dos Anexos I e II"
   ]
  },
  {
   "cell_type": "code",
   "execution_count": 3,
   "metadata": {},
   "outputs": [],
   "source": [
    "def get_urls_pdf(web_content):\n",
    "  # Pegando o HTML do site\n",
    "  soup = BeautifulSoup(web_content, 'html.parser')\n",
    "\n",
    "  # Buscando os links dos PDFs\n",
    "  urls_pdf = []\n",
    "  for link in soup.find_all('a'):\n",
    "    if link.string == \"Anexo I.\" or link.string == \"Anexo II.\":\n",
    "      urls_pdf.append(link.get('href'))\n",
    "      print(f\"{link.string} encontrado.\")\n",
    "    \n",
    "  return urls_pdf"
   ]
  },
  {
   "cell_type": "markdown",
   "metadata": {},
   "source": [
    "Função para fazer download dos Anexos no formato PDF"
   ]
  },
  {
   "cell_type": "code",
   "execution_count": 4,
   "metadata": {},
   "outputs": [],
   "source": [
    "def download_pdf(urls):\n",
    "  os.makedirs(OUTPUT_PDF_PATH, exist_ok=True)\n",
    "  # Baixando os PDFs\n",
    "  downloads = []\n",
    "  for url in urls:\n",
    "    print(f\"- Acessando {url}\")\n",
    "    pdf_response = requests.get(url)\n",
    "    \n",
    "    if pdf_response.status_code == 200:\n",
    "      pdf_name = os.path.basename(url)\n",
    "      \n",
    "      pdf_path = os.path.join(OUTPUT_PDF_PATH, pdf_name)\n",
    "\n",
    "      print(f\"Baixando: {pdf_name}\")\n",
    "\n",
    "      with open(pdf_path, \"wb\") as pdf_file:\n",
    "        pdf_file.write(pdf_response.content)\n",
    "        downloads.append(pdf_path)\n",
    "    else:\n",
    "      raise ValueError(f\"Não foi possível acessar {url}. Status Code: {pdf_response.status_code}\")\n",
    "    \n",
    "  return downloads"
   ]
  },
  {
   "cell_type": "markdown",
   "metadata": {},
   "source": [
    "Função para compactar os anexos baixados no formato ZIP"
   ]
  },
  {
   "cell_type": "code",
   "execution_count": 5,
   "metadata": {},
   "outputs": [],
   "source": [
    "def compress_pdf(pdfs):\n",
    "  os.makedirs(OUTPUT_ZIP_PATH, exist_ok=True)\n",
    "  # Compactando em ZIP\n",
    "  with ZipFile(f'{OUTPUT_ZIP_PATH}{ZIP_NAME}', \"w\") as zip:\n",
    "    for pdf in pdfs:\n",
    "      zip.write(pdf, os.path.basename(pdf))\n",
    "    print(f\"Arquivos compactados em {ZIP_NAME}.\")"
   ]
  },
  {
   "cell_type": "markdown",
   "metadata": {},
   "source": [
    "Acessando o site: https://www.gov.br/ans/pt-br/acesso-a-informacao/participacao-da-sociedade/atualizacao-do-rol-de-procedimentos e executando as funções"
   ]
  },
  {
   "cell_type": "code",
   "execution_count": 6,
   "metadata": {},
   "outputs": [
    {
     "name": "stdout",
     "output_type": "stream",
     "text": [
      "Site acessado com sucesso!\n",
      "Anexo I. encontrado.\n",
      "Anexo II. encontrado.\n",
      "- Acessando https://www.gov.br/ans/pt-br/acesso-a-informacao/participacao-da-sociedade/atualizacao-do-rol-de-procedimentos/Anexo_I_Rol_2021RN_465.2021_RN624_RN625.2024.pdf\n",
      "Baixando: Anexo_I_Rol_2021RN_465.2021_RN624_RN625.2024.pdf\n",
      "- Acessando https://www.gov.br/ans/pt-br/acesso-a-informacao/participacao-da-sociedade/atualizacao-do-rol-de-procedimentos/Anexo_II_DUT_2021_RN_465.2021_RN624_RN625.2024.pdf\n",
      "Baixando: Anexo_II_DUT_2021_RN_465.2021_RN624_RN625.2024.pdf\n",
      "Arquivos compactados em anexos.zip.\n"
     ]
    }
   ],
   "source": [
    "# Acessando o site\n",
    "response_web = requests.get(URL)\n",
    "response_web.raise_for_status()\n",
    "\n",
    "print(\"Site acessado com sucesso!\")\n",
    "\n",
    "pdf_urls = get_urls_pdf(response_web.content)\n",
    "  \n",
    "downloads_pdf = download_pdf(pdf_urls)\n",
    "  \n",
    "compress_pdf(downloads_pdf)"
   ]
  }
 ],
 "metadata": {
  "kernelspec": {
   "display_name": "Python 3",
   "language": "python",
   "name": "python3"
  },
  "language_info": {
   "codemirror_mode": {
    "name": "ipython",
    "version": 3
   },
   "file_extension": ".py",
   "mimetype": "text/x-python",
   "name": "python",
   "nbconvert_exporter": "python",
   "pygments_lexer": "ipython3",
   "version": "3.13.1"
  }
 },
 "nbformat": 4,
 "nbformat_minor": 2
}
