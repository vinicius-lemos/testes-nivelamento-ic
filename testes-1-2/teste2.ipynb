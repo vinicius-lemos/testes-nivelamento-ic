{
 "cells": [
  {
   "cell_type": "markdown",
   "metadata": {},
   "source": [
    "### 2. TESTE DE TRANSFORMAÇÃO DE DADOS"
   ]
  },
  {
   "cell_type": "markdown",
   "metadata": {},
   "source": [
    "Bibliotecas usadas"
   ]
  },
  {
   "cell_type": "code",
   "execution_count": 1,
   "metadata": {},
   "outputs": [],
   "source": [
    "import tabula\n",
    "import os"
   ]
  },
  {
   "cell_type": "markdown",
   "metadata": {},
   "source": [
    "Constantes de configuração"
   ]
  },
  {
   "cell_type": "code",
   "execution_count": 2,
   "metadata": {},
   "outputs": [],
   "source": [
    "PDF_PATH = \"./PDFs/Anexo_I_Rol_2021RN_465.2021_RN624_RN625.2024.pdf\"\n",
    "OUTPUT_CSV_PATH = \"./CSVs/\"\n",
    "CSV_NAME = \"anexo_I.csv\"\n",
    "OUTPUT_ZIP_PATH = \"./ZIPs/\"\n",
    "ZIP_NAME = \"Teste_VINICIUS.zip\""
   ]
  },
  {
   "cell_type": "markdown",
   "metadata": {},
   "source": [
    "Extração dos dados da tabela Rol de Procedimentos e Eventos em Saúde do PDF Anexo I"
   ]
  },
  {
   "cell_type": "code",
   "execution_count": 3,
   "metadata": {},
   "outputs": [],
   "source": [
    "tabula_table = tabula.read_pdf(PDF_PATH, pages=\"all\", force_subprocess=True, output_format='dataframe')\n",
    "data = tabula_table[0]"
   ]
  },
  {
   "cell_type": "markdown",
   "metadata": {},
   "source": [
    "Substituição do nome das colunas OB e AMB por SEG. ODONTOLÓGICA e SEG. AMBULATORIAL, respectivamente.  \n",
    "Substituição do nome da coluna RN\\r(alteração) por RN(alteração) pois a quebra de linha foi lida como \\r."
   ]
  },
  {
   "cell_type": "code",
   "execution_count": 4,
   "metadata": {},
   "outputs": [
    {
     "data": {
      "text/html": [
       "<div>\n",
       "<style scoped>\n",
       "    .dataframe tbody tr th:only-of-type {\n",
       "        vertical-align: middle;\n",
       "    }\n",
       "\n",
       "    .dataframe tbody tr th {\n",
       "        vertical-align: top;\n",
       "    }\n",
       "\n",
       "    .dataframe thead th {\n",
       "        text-align: right;\n",
       "    }\n",
       "</style>\n",
       "<table border=\"1\" class=\"dataframe\">\n",
       "  <thead>\n",
       "    <tr style=\"text-align: right;\">\n",
       "      <th></th>\n",
       "      <th>PROCEDIMENTO</th>\n",
       "      <th>RN(alteração)</th>\n",
       "      <th>VIGÊNCIA</th>\n",
       "      <th>SEG.ODONTOLÓGICA</th>\n",
       "      <th>SEG.AMBULATORIAL</th>\n",
       "      <th>HCO</th>\n",
       "      <th>HSO</th>\n",
       "      <th>REF</th>\n",
       "      <th>PAC</th>\n",
       "      <th>DUT</th>\n",
       "      <th>SUBGRUPO</th>\n",
       "      <th>GRUPO</th>\n",
       "      <th>CAPÍTULO</th>\n",
       "    </tr>\n",
       "  </thead>\n",
       "  <tbody>\n",
       "    <tr>\n",
       "      <th>0</th>\n",
       "      <td>ACONSELHAMENTO GENÉTICO</td>\n",
       "      <td>NaN</td>\n",
       "      <td>NaN</td>\n",
       "      <td>NaN</td>\n",
       "      <td>AMB</td>\n",
       "      <td>HCO</td>\n",
       "      <td>HSO</td>\n",
       "      <td>REF</td>\n",
       "      <td>NaN</td>\n",
       "      <td>NaN</td>\n",
       "      <td>CONSULTAS, VISITAS HOSPITALARES OU\\rACOMPANHAM...</td>\n",
       "      <td>PROCEDIMENTOS GERAIS</td>\n",
       "      <td>PROCEDIMENTOS GERAIS</td>\n",
       "    </tr>\n",
       "    <tr>\n",
       "      <th>1</th>\n",
       "      <td>ATENDIMENTO/ACOMPANHAMENTO EM HOSPITAL-DIA PSI...</td>\n",
       "      <td>NaN</td>\n",
       "      <td>NaN</td>\n",
       "      <td>NaN</td>\n",
       "      <td>NaN</td>\n",
       "      <td>HCO</td>\n",
       "      <td>HSO</td>\n",
       "      <td>REF</td>\n",
       "      <td>NaN</td>\n",
       "      <td>109</td>\n",
       "      <td>CONSULTAS, VISITAS HOSPITALARES OU\\rACOMPANHAM...</td>\n",
       "      <td>PROCEDIMENTOS GERAIS</td>\n",
       "      <td>PROCEDIMENTOS GERAIS</td>\n",
       "    </tr>\n",
       "    <tr>\n",
       "      <th>2</th>\n",
       "      <td>ATENDIMENTO INTEGRAL AO RECÉM-NASCIDO (SALA DE...</td>\n",
       "      <td>NaN</td>\n",
       "      <td>NaN</td>\n",
       "      <td>NaN</td>\n",
       "      <td>NaN</td>\n",
       "      <td>HCO</td>\n",
       "      <td>NaN</td>\n",
       "      <td>REF</td>\n",
       "      <td>NaN</td>\n",
       "      <td>NaN</td>\n",
       "      <td>CONSULTAS, VISITAS HOSPITALARES OU\\rACOMPANHAM...</td>\n",
       "      <td>PROCEDIMENTOS GERAIS</td>\n",
       "      <td>PROCEDIMENTOS GERAIS</td>\n",
       "    </tr>\n",
       "    <tr>\n",
       "      <th>3</th>\n",
       "      <td>ATENDIMENTO MÉDICO DO INTENSIVISTA EM UTI GERA...</td>\n",
       "      <td>NaN</td>\n",
       "      <td>NaN</td>\n",
       "      <td>NaN</td>\n",
       "      <td>NaN</td>\n",
       "      <td>HCO</td>\n",
       "      <td>HSO</td>\n",
       "      <td>REF</td>\n",
       "      <td>NaN</td>\n",
       "      <td>NaN</td>\n",
       "      <td>CONSULTAS, VISITAS HOSPITALARES OU\\rACOMPANHAM...</td>\n",
       "      <td>PROCEDIMENTOS GERAIS</td>\n",
       "      <td>PROCEDIMENTOS GERAIS</td>\n",
       "    </tr>\n",
       "    <tr>\n",
       "      <th>4</th>\n",
       "      <td>ATENDIMENTO PEDIÁTRICO A GESTANTES (3o TRIMESTRE)</td>\n",
       "      <td>NaN</td>\n",
       "      <td>NaN</td>\n",
       "      <td>NaN</td>\n",
       "      <td>AMB</td>\n",
       "      <td>HCO</td>\n",
       "      <td>NaN</td>\n",
       "      <td>REF</td>\n",
       "      <td>NaN</td>\n",
       "      <td>NaN</td>\n",
       "      <td>CONSULTAS, VISITAS HOSPITALARES OU\\rACOMPANHAM...</td>\n",
       "      <td>PROCEDIMENTOS GERAIS</td>\n",
       "      <td>PROCEDIMENTOS GERAIS</td>\n",
       "    </tr>\n",
       "  </tbody>\n",
       "</table>\n",
       "</div>"
      ],
      "text/plain": [
       "                                        PROCEDIMENTO RN(alteração) VIGÊNCIA  \\\n",
       "0                            ACONSELHAMENTO GENÉTICO           NaN      NaN   \n",
       "1  ATENDIMENTO/ACOMPANHAMENTO EM HOSPITAL-DIA PSI...           NaN      NaN   \n",
       "2  ATENDIMENTO INTEGRAL AO RECÉM-NASCIDO (SALA DE...           NaN      NaN   \n",
       "3  ATENDIMENTO MÉDICO DO INTENSIVISTA EM UTI GERA...           NaN      NaN   \n",
       "4  ATENDIMENTO PEDIÁTRICO A GESTANTES (3o TRIMESTRE)           NaN      NaN   \n",
       "\n",
       "  SEG.ODONTOLÓGICA SEG.AMBULATORIAL  HCO  HSO  REF  PAC  DUT  \\\n",
       "0              NaN              AMB  HCO  HSO  REF  NaN  NaN   \n",
       "1              NaN              NaN  HCO  HSO  REF  NaN  109   \n",
       "2              NaN              NaN  HCO  NaN  REF  NaN  NaN   \n",
       "3              NaN              NaN  HCO  HSO  REF  NaN  NaN   \n",
       "4              NaN              AMB  HCO  NaN  REF  NaN  NaN   \n",
       "\n",
       "                                            SUBGRUPO                 GRUPO  \\\n",
       "0  CONSULTAS, VISITAS HOSPITALARES OU\\rACOMPANHAM...  PROCEDIMENTOS GERAIS   \n",
       "1  CONSULTAS, VISITAS HOSPITALARES OU\\rACOMPANHAM...  PROCEDIMENTOS GERAIS   \n",
       "2  CONSULTAS, VISITAS HOSPITALARES OU\\rACOMPANHAM...  PROCEDIMENTOS GERAIS   \n",
       "3  CONSULTAS, VISITAS HOSPITALARES OU\\rACOMPANHAM...  PROCEDIMENTOS GERAIS   \n",
       "4  CONSULTAS, VISITAS HOSPITALARES OU\\rACOMPANHAM...  PROCEDIMENTOS GERAIS   \n",
       "\n",
       "               CAPÍTULO  \n",
       "0  PROCEDIMENTOS GERAIS  \n",
       "1  PROCEDIMENTOS GERAIS  \n",
       "2  PROCEDIMENTOS GERAIS  \n",
       "3  PROCEDIMENTOS GERAIS  \n",
       "4  PROCEDIMENTOS GERAIS  "
      ]
     },
     "execution_count": 4,
     "metadata": {},
     "output_type": "execute_result"
    }
   ],
   "source": [
    "data.rename(columns={'OD': 'SEG.ODONTOLÓGICA', 'AMB': 'SEG.AMBULATORIAL', 'RN\\r(alteração)': 'RN(alteração)'}, inplace=True)\n",
    "data.head()"
   ]
  },
  {
   "cell_type": "markdown",
   "metadata": {},
   "source": [
    "Salvando os dados da tabela em um arquivo .csv no diretório CSVs"
   ]
  },
  {
   "cell_type": "code",
   "execution_count": 5,
   "metadata": {},
   "outputs": [],
   "source": [
    "os.makedirs(OUTPUT_CSV_PATH, exist_ok=True)\n",
    "data.to_csv(f'{OUTPUT_CSV_PATH}{CSV_NAME}', index=False)"
   ]
  },
  {
   "cell_type": "markdown",
   "metadata": {},
   "source": [
    "Compactação do csv em formato .zip"
   ]
  },
  {
   "cell_type": "code",
   "execution_count": 6,
   "metadata": {},
   "outputs": [],
   "source": [
    "compression_opts = dict(method='zip', archive_name=CSV_NAME)\n",
    "data.to_csv(f'{OUTPUT_ZIP_PATH}{ZIP_NAME}', index=False, compression=compression_opts)"
   ]
  }
 ],
 "metadata": {
  "kernelspec": {
   "display_name": "Python 3",
   "language": "python",
   "name": "python3"
  },
  "language_info": {
   "codemirror_mode": {
    "name": "ipython",
    "version": 3
   },
   "file_extension": ".py",
   "mimetype": "text/x-python",
   "name": "python",
   "nbconvert_exporter": "python",
   "pygments_lexer": "ipython3",
   "version": "3.13.1"
  }
 },
 "nbformat": 4,
 "nbformat_minor": 2
}
